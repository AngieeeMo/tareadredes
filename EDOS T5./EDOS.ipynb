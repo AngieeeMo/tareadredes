{
 "cells": [
  {
   "cell_type": "markdown",
   "id": "7119b740",
   "metadata": {},
   "source": [
    "# Reporte Tarea 5: Funciones,Modelos personalizados y EDOS\n"
   ]
  },
  {
   "cell_type": "markdown",
   "id": "edd3d64b",
   "metadata": {},
   "source": [
    " De acuerdo a la teoría en el procesamiento de imagenes, podemos darle distintos colores a las imagenes de acuerdo a la profundidad de color (número de bits que posea un pixel)podemos representar n cantidad de colores, la profundidad de colores que necesitamos en este caso correspone a 8 bits, que son un total de 256 tonos de grises.\n",
    " En nuestro caso partimos de imagenes RGB que supongo que tambien son 8 bist pero a color, tambien 256 tonos de color).\n",
    "\n",
    "En lugar de entrenar densamente y predecir la colorización de toda la imagen en una sola pasada, la CNN se entrena en muestras espacialmente escasas de parches en escala de grises de tamaño igual al campo receptivo de la red, prediciendo el valor de color del píxel central.\n",
    " "
   ]
  },
  {
   "cell_type": "code",
   "execution_count": 2,
   "id": "5997168c",
   "metadata": {},
   "outputs": [],
   "source": [
    "import tensorflow as tf\n",
    "from tensorflow.keras.layers import Layer\n",
    "import mnist_loader\n",
    "import matplotlib.pyplot as plt\n",
    "import numpy as np\n",
    "from matplotlib.image import imread\n",
    "from PIL import Image\n",
    "import matplotlib.image as mpimg\n",
    "from tensorflow import keras\n",
    "from tensorflow.keras.models import Sequential\n",
    "from tensorflow.keras.layers import Dense, Dropout,Activation\n",
    "from tensorflow.keras.optimizers import RMSprop,Adam\n"
   ]
  },
  {
   "cell_type": "code",
   "execution_count": 3,
   "id": "badf956a",
   "metadata": {},
   "outputs": [],
   "source": [
    "class Capgris(Layer):\n",
    "    def __init__(self, **kwargs):\n",
    "        super().__init__(**kwargs)\n",
    "        tr_d, va_d, te_d = mnist_loader.load_data()\n",
    "        resha=tr_d[0][0] # primera imagen\n",
    "        im=np.reshape(resha,(28,28)) \n",
    "        resha=np.reshape(im,(784,1)) #La reacomodamos como matriz de (784,1) para poderla meter a la red\n",
    "        imtest=imread('Numero3.jpg') #Leemos nuestra imagen\n",
    "        plt.imshow(imtest) #La visualizamos\n",
    "        imtest=np.reshape(imtest,(784,3)) # La convertimos en vector\n",
    "            #Convertimos a blanco y negro la imagen:\n",
    "        lst = []\n",
    "        for i in imtest:\n",
    "            pix=i[0]*0.299+i[1]*0.587+i[2]*0.114#transfomamos a escala de grises, aquí dependiendo el valor con el que escalamos, es la tonalidad de grises\n",
    "        if(pix<125):\n",
    "            pix=0. #Como la hoja es blanca y el papel negro, lo negro lo ponemos con mayor luminosidad\n",
    "        else:\n",
    "            pix=0. #lo blanco lo ponemos como negro\n",
    "            lst.append(pix)\n",
    "            imtest=np.array(lst).reshape(1,28,28,3) #acomodamos la imagen para poder ver como quedó\n",
    "            imtest=(imtest/imtest.max()) #normalizamos\n",
    "            plt.imshow(imtest) #visualizamos la imagen\n"
   ]
  },
  {
   "cell_type": "code",
   "execution_count": 4,
   "id": "b809e428",
   "metadata": {},
   "outputs": [
    {
     "ename": "ValueError",
     "evalue": "cannot reshape array of size 1 into shape (1,28,28,3)",
     "output_type": "error",
     "traceback": [
      "\u001b[0;31m---------------------------------------------------------------------------\u001b[0m",
      "\u001b[0;31mValueError\u001b[0m                                Traceback (most recent call last)",
      "Cell \u001b[0;32mIn[4], line 1\u001b[0m\n\u001b[0;32m----> 1\u001b[0m model_capgris\u001b[38;5;241m=\u001b[39mCapgris()\n",
      "Cell \u001b[0;32mIn[3], line 20\u001b[0m, in \u001b[0;36mCapgris.__init__\u001b[0;34m(self, **kwargs)\u001b[0m\n\u001b[1;32m     18\u001b[0m pix\u001b[38;5;241m=\u001b[39m\u001b[38;5;241m0.\u001b[39m \u001b[38;5;66;03m#lo blanco lo ponemos como negro\u001b[39;00m\n\u001b[1;32m     19\u001b[0m lst\u001b[38;5;241m.\u001b[39mappend(pix)\n\u001b[0;32m---> 20\u001b[0m imtest\u001b[38;5;241m=\u001b[39mnp\u001b[38;5;241m.\u001b[39marray(lst)\u001b[38;5;241m.\u001b[39mreshape(\u001b[38;5;241m1\u001b[39m,\u001b[38;5;241m28\u001b[39m,\u001b[38;5;241m28\u001b[39m,\u001b[38;5;241m3\u001b[39m) \u001b[38;5;66;03m#acomodamos la imagen para poder ver como quedó\u001b[39;00m\n\u001b[1;32m     21\u001b[0m imtest\u001b[38;5;241m=\u001b[39m(imtest\u001b[38;5;241m/\u001b[39mimtest\u001b[38;5;241m.\u001b[39mmax()) \u001b[38;5;66;03m#normalizamos\u001b[39;00m\n\u001b[1;32m     22\u001b[0m plt\u001b[38;5;241m.\u001b[39mimshow(imtest)\n",
      "\u001b[0;31mValueError\u001b[0m: cannot reshape array of size 1 into shape (1,28,28,3)"
     ]
    },
    {
     "data": {
      "image/png": "[encoded data removed]",
      "text/plain": [
       "<Figure size 432x288 with 1 Axes>"
      ]
     },
     "metadata": {
      "needs_background": "light"
     },
     "output_type": "display_data"
    }
   ],
   "source": [
    "model_capgris=Capgris()"
   ]
  },
  {
   "cell_type": "markdown",
   "id": "faf88636",
   "metadata": {},
   "source": [
    "Forma alterna:"
   ]
  },
  {
   "cell_type": "code",
   "execution_count": 5,
   "id": "e0d0c378",
   "metadata": {},
   "outputs": [],
   "source": [
    "class Capgris2(Layer):\n",
    "    def __init__(self,**kwargs):\n",
    "        super().__init__(**kwargs)\n",
    "    def call(self,inputs):\n",
    "        R,B,G=inputs[:,:,:,0],inputs[:,:,:,2],inputs[:,:,:,1]\n",
    "        imgGray = 0.2989 * R + 0.5870 * G + 0.1140 * B\n",
    "        return imgGray\n"
   ]
  },
  {
   "cell_type": "code",
   "execution_count": 6,
   "id": "19e54198",
   "metadata": {},
   "outputs": [],
   "source": [
    "iage='descarga.png'\n",
    "iage=tf.keras.preprocessing.image.load_img(iage)\n",
    "iage=tf.keras.preprocessing.image.img_to_array(iage)"
   ]
  },
  {
   "cell_type": "code",
   "execution_count": 7,
   "id": "81be0775",
   "metadata": {},
   "outputs": [
    {
     "ename": "TypeError",
     "evalue": "Capgris2.__init__() takes 1 positional argument but 2 were given",
     "output_type": "error",
     "traceback": [
      "\u001b[0;31m---------------------------------------------------------------------------\u001b[0m",
      "\u001b[0;31mTypeError\u001b[0m                                 Traceback (most recent call last)",
      "Cell \u001b[0;32mIn[7], line 1\u001b[0m\n\u001b[0;32m----> 1\u001b[0m model\u001b[38;5;241m=\u001b[39mtf\u001b[38;5;241m.\u001b[39mkeras\u001b[38;5;241m.\u001b[39mSequential(Capgris2(iage))\n",
      "\u001b[0;31mTypeError\u001b[0m: Capgris2.__init__() takes 1 positional argument but 2 were given"
     ]
    }
   ],
   "source": [
    "model=tf.keras.Sequential(Capgris2(iage))#no supe como mostrar la imagen"
   ]
  },
  {
   "cell_type": "code",
   "execution_count": 8,
   "id": "b84c14c5",
   "metadata": {},
   "outputs": [],
   "source": [
    "class ODEsolver(Sequential):\n",
    "    def __init__(self, **kwargs):\n",
    "        super().__init__(**kwargs)\n",
    "        self.loss_tracker = keras.metrics.Mean(name=\"loss\")\n",
    "        self.mse = tf.keras.losses.MeanSquaredError()\n",
    "@property\n",
    "def metrics(self):\n",
    "    return [self.loss_tracker]\n",
    "\n",
    "def train_step(self, data):\n",
    "    batch_size = tf.shape(data)[0]\n",
    "    min = tf.cast(tf.reduce_min(data),tf.float32)\n",
    "    max = tf.cast(tf.reduce_max(data),tf.float32)\n",
    "    x = tf.random.uniform((batch_size,1), minval=min, maxval=max)\n",
    "    with tf.GradientTape() as tape:\n",
    "        with tf.GradientTape() as tape2:\n",
    "            tape2.watch(x)\n",
    "            y_pred = self(x, training=True)\n",
    "            dy = tape2.gradient(y_pred, x) #derivada del modelo con respecto a entradas x\n",
    "            x_o = tf.zeros((batch_size,1)) #valor de x en condicion inicial x_0=0\n",
    "            y_o = self(x_o,training=True) #valor del modelo en en x_0\n",
    "            eq = dy + 2.*x*y_pred #Ecuacion diferencial evaluada en el modelo. Queremos que sea muy pequeno\n",
    "            ic = 1. #valor que queremos para la condicion inicial o el modelo en x_0\n",
    "            loss = self.mse(0., eq) + self.mse(y_o,ic)\n",
    "\n",
    "        # Apply grads\n",
    "        grads = tape.gradient(loss, self.trainable_variables)\n",
    "        self.optimizer.apply_gradients(zip(grads, self.trainable_variables))\n",
    "        #update metrics\n",
    "        self.loss_tracker.update_state(loss)\n",
    "        # Return a dict mapping metric names to current value\n",
    "        return {\"loss\": self.loss_tracker.result()}"
   ]
  },
  {
   "cell_type": "code",
   "execution_count": 11,
   "id": "7a6d36cd",
   "metadata": {},
   "outputs": [
    {
     "name": "stdout",
     "output_type": "stream",
     "text": [
      "Model: \"od_esolver_1\"\n",
      "_________________________________________________________________\n",
      " Layer (type)                Output Shape              Param #   \n",
      "=================================================================\n",
      " dense_3 (Dense)             (None, 10)                20        \n",
      "                                                                 \n",
      " dense_4 (Dense)             (None, 10)                110       \n",
      "                                                                 \n",
      " dense_5 (Dense)             (None, 15)                165       \n",
      "                                                                 \n",
      " dense_6 (Dense)             (None, 7)                 112       \n",
      "                                                                 \n",
      " dense_7 (Dense)             (None, 1)                 8         \n",
      "                                                                 \n",
      "=================================================================\n",
      "Total params: 415\n",
      "Trainable params: 415\n",
      "Non-trainable params: 0\n",
      "_________________________________________________________________\n"
     ]
    }
   ],
   "source": [
    "model = ODEsolver()\n",
    "\n",
    "model.add(Dense(10, activation='tanh', input_shape=(1,)))\n",
    "model.add(Dense(10, activation='tanh'))\n",
    "model.add(Dense(15, activation='tanh'))\n",
    "model.add(Dense(7, activation='tanh'))\n",
    "model.add(Dense(1))\n",
    "\n",
    "\n",
    "model.summary()"
   ]
  },
  {
   "cell_type": "code",
   "execution_count": 18,
   "id": "f09e10d2",
   "metadata": {},
   "outputs": [
    {
     "data": {
      "text/plain": [
       "<keras.callbacks.History at 0x20b40f050>"
      ]
     },
     "execution_count": 18,
     "metadata": {},
     "output_type": "execute_result"
    }
   ],
   "source": [
    "x = tf.linspace(-1,1,500)\n",
    "y=3*np.sin(np.pi*x)\n",
    "model.compile(loss='mean_squared_error',optimizer= 'adam')\n",
    "\n",
    "model.fit(x, y, epochs=1000, batch_size=1,verbose=0)\n",
    "\n",
    "yf=model.predict(x)"
   ]
  },
  {
   "cell_type": "code",
   "execution_count": 20,
   "id": "f9cc2a11",
   "metadata": {},
   "outputs": [
    {
     "name": "stdout",
     "output_type": "stream",
     "text": [
      "16/16 [==============================] - 0s 885us/step\n"
     ]
    },
    {
     "data": {
      "image/png": "[encoded data removed]",
      "text/plain": [
       "<Figure size 432x288 with 1 Axes>"
      ]
     },
     "metadata": {
      "needs_background": "light"
     },
     "output_type": "display_data"
    }
   ],
   "source": [
    "plt.plot(x,y,label=\"exact\")\n",
    "plt.plot(x,yf,label=\"brr\")\n",
    "plt.legend()\n",
    "plt.show()"
   ]
  },
  {
   "cell_type": "code",
   "execution_count": 26,
   "id": "1dbd04b2",
   "metadata": {},
   "outputs": [
    {
     "name": "stdout",
     "output_type": "stream",
     "text": [
      "16/16 [==============================] - 0s 1ms/step\n"
     ]
    }
   ],
   "source": [
    "x1 = tf.linspace(-1,1,500)\n",
    "y1=1+2*x+4*x**3\n",
    "model.compile(loss='mean_squared_error',optimizer=Adam(learning_rate=0.001))\n",
    "\n",
    "model.fit(x1, y1, epochs=1000, batch_size=1,verbose=0)\n",
    "\n",
    "yf2=model.predict(x1)"
   ]
  },
  {
   "cell_type": "code",
   "execution_count": 27,
   "id": "1cc81d2d",
   "metadata": {},
   "outputs": [
    {
     "data": {
      "image/png": "[encoded data removed]",
      "text/plain": [
       "<Figure size 432x288 with 1 Axes>"
      ]
     },
     "metadata": {
      "needs_background": "light"
     },
     "output_type": "display_data"
    }
   ],
   "source": [
    "plt.plot(x1,y1,label=\"ideal\")\n",
    "plt.plot(x1,yf2,label=\"suspenso\")\n",
    "plt.legend()\n",
    "plt.show()"
   ]
  },
  {
   "cell_type": "code",
   "execution_count": 30,
   "id": "775304de",
   "metadata": {},
   "outputs": [],
   "source": [
    "class PolynomialLayer(Layer):\n",
    "    def __init__(self, **kwargs):\n",
    "        super(PolynomialLayer, self).__init__(**kwargs)\n",
    "\n",
    "    def build(self, input_shape):# Damos los parámetros entrenables del polinomio :a,b,c,d\n",
    "        self.a = self.add_weight(\"a\", shape=(), initializer=\"zeros\", trainable=True)\n",
    "        self.b = self.add_weight(\"b\", shape=(), initializer=\"zeros\", trainable=True)\n",
    "        self.c = self.add_weight(\"c\", shape=(), initializer=\"zeros\", trainable=True)\n",
    "        self.d = self.add_weight(\"d\", shape=(), initializer=\"zeros\", trainable=True)\n",
    "        super(PolynomialLayer, self).build(input_shape)\n",
    "\n",
    "    def call(self, x):\n",
    "        # Calcula el polinomio \n",
    "        return self.a + self.b * x + self.c * x**2 + self.d * x**3"
   ]
  },
  {
   "cell_type": "code",
   "execution_count": 31,
   "id": "6cc8d281",
   "metadata": {},
   "outputs": [
    {
     "name": "stdout",
     "output_type": "stream",
     "text": [
      "Model: \"sequential_1\"\n",
      "_________________________________________________________________\n",
      " Layer (type)                Output Shape              Param #   \n",
      "=================================================================\n",
      " polynomial_layer_1 (Polynom  (None, 1, 0)             4         \n",
      " ialLayer)                                                       \n",
      "                                                                 \n",
      "=================================================================\n",
      "Total params: 4\n",
      "Trainable params: 4\n",
      "Non-trainable params: 0\n",
      "_________________________________________________________________\n"
     ]
    }
   ],
   "source": [
    "model = Sequential()\n",
    "model.add(PolynomialLayer(input_shape=(1,0)))\n",
    "model.summary()"
   ]
  },
  {
   "cell_type": "code",
   "execution_count": 42,
   "id": "c3985c65",
   "metadata": {},
   "outputs": [
    {
     "name": "stdout",
     "output_type": "stream",
     "text": [
      "4/4 [==============================] - 0s 2ms/step\n"
     ]
    }
   ],
   "source": [
    "model.compile(loss='mean_squared_error',optimizer=Adam(learning_rate=0.001))\n",
    "x2 = tf.linspace(-1,1,100)\n",
    "y22=np.cos(2*x2)\n",
    "\n",
    "\n",
    "model.fit(x2, y22, epochs=1000, batch_size=1,verbose=0)\n",
    "yf22=model.predict(x2)\n"
   ]
  },
  {
   "cell_type": "code",
   "execution_count": 43,
   "id": "26ffb2ff",
   "metadata": {},
   "outputs": [
    {
     "data": {
      "image/png": "[encoded data removed]",
      "text/plain": [
       "<Figure size 432x288 with 1 Axes>"
      ]
     },
     "metadata": {
      "needs_background": "light"
     },
     "output_type": "display_data"
    }
   ],
   "source": [
    "plt.plot(x2,y22,label=\"exact\")\n",
    "plt.plot(x2,yf22,label=\"aprox\")\n",
    "plt.legend()\n",
    "plt.show()"
   ]
  },
  {
   "cell_type": "code",
   "execution_count": 40,
   "id": "0370485c",
   "metadata": {},
   "outputs": [
    {
     "name": "stdout",
     "output_type": "stream",
     "text": [
      "Model: \"od_esolver_2\"\n",
      "_________________________________________________________________\n",
      " Layer (type)                Output Shape              Param #   \n",
      "=================================================================\n",
      " dense_8 (Dense)             (None, 10)                20        \n",
      "                                                                 \n",
      " dense_9 (Dense)             (None, 10)                110       \n",
      "                                                                 \n",
      " dense_10 (Dense)            (None, 15)                165       \n",
      "                                                                 \n",
      " dense_11 (Dense)            (None, 7)                 112       \n",
      "                                                                 \n",
      " dense_12 (Dense)            (None, 1)                 8         \n",
      "                                                                 \n",
      "=================================================================\n",
      "Total params: 415\n",
      "Trainable params: 415\n",
      "Non-trainable params: 0\n",
      "_________________________________________________________________\n"
     ]
    }
   ],
   "source": [
    "model = ODEsolver()\n",
    "\n",
    "model.add(Dense(10, activation='tanh', input_shape=(1,)))\n",
    "model.add(Dense(10, activation='tanh'))\n",
    "model.add(Dense(15, activation='tanh'))\n",
    "model.add(Dense(7, activation='tanh'))\n",
    "model.add(Dense(1))\n",
    "model.summary()\n",
    "model.compile(loss='mean_squared_error',optimizer=Adam(learning_rate=0.001))\n",
    "\n"
   ]
  },
  {
   "cell_type": "code",
   "execution_count": 65,
   "id": "283910e2",
   "metadata": {},
   "outputs": [
    {
     "name": "stdout",
     "output_type": "stream",
     "text": [
      "16/16 [==============================] - 0s 1ms/step\n"
     ]
    }
   ],
   "source": [
    "\n",
    "x4 = tf.linspace(-5,5,500)\n",
    "y4= x4*np.sin(x4) -2.*(-x4*np.cos(x4) + np.sin(x4))/ x4\n",
    "model.fit(x4,y4,epochs=1030, batch_size=1,verbose=0)\n",
    "y44=model.predict(x4)\n"
   ]
  },
  {
   "cell_type": "code",
   "execution_count": 67,
   "id": "dbef40c5",
   "metadata": {},
   "outputs": [
    {
     "data": {
      "image/png": "[encoded data removed]",
      "text/plain": [
       "<Figure size 432x288 with 1 Axes>"
      ]
     },
     "metadata": {
      "needs_background": "light"
     },
     "output_type": "display_data"
    }
   ],
   "source": [
    "plt.plot(x4,y4,label=\"exact\")\n",
    "plt.plot(x4,y44,label=\"aprox\")\n",
    "plt.legend()\n",
    "plt.show()\n"
   ]
  },
  {
   "cell_type": "code",
   "execution_count": 70,
   "id": "c8dd2f82",
   "metadata": {},
   "outputs": [
    {
     "name": "stdout",
     "output_type": "stream",
     "text": [
      "16/16 [==============================] - 0s 2ms/step\n"
     ]
    }
   ],
   "source": [
    "yn=tf.cos(x4)-0.5*tf.sin(x4)\n",
    "model.fit(x4,yn,epochs=1030, batch_size=1,verbose=0)\n",
    "ynn=model.predict(x4)"
   ]
  },
  {
   "cell_type": "code",
   "execution_count": 71,
   "id": "06a54f23",
   "metadata": {},
   "outputs": [
    {
     "data": {
      "image/png": "[encoded data removed]",
      "text/plain": [
       "<Figure size 432x288 with 1 Axes>"
      ]
     },
     "metadata": {
      "needs_background": "light"
     },
     "output_type": "display_data"
    }
   ],
   "source": [
    "plt.plot(x4,yn,label=\"exact\")\n",
    "plt.plot(x4,ynn,label=\"aprox\")\n",
    "plt.legend()\n",
    "plt.show()\n"
   ]
  },
  {
   "cell_type": "markdown",
   "id": "d95b2a58",
   "metadata": {},
   "source": [
    "Para ser franca creo que ha sido el reporte y la actividad que más me ha costado hasta ahora porque me intimidó leer lo que nos pedían, de ahí me hice bolas con lo del proesamiento de imagenes y con lo de las EDOS, creo que lo que más me costó es que ocasionalmente olvidaba la variable que daba para trabajar con cierto rango por lo que obtuve en más ocasiones de las que me gustaría el error \"ValueError: Target data is missing. Your model was compiled with loss=mean_squared_error, and therefore expects target data to be provided in `fit()\"\n",
    "o ajustaba la x que no era.\n",
    "Pero creo que mas o menos me familiaricé más con las capas.\n",
    "Perdón por enviarlo tan tarde."
   ]
  },
  {
   "cell_type": "code",
   "execution_count": null,
   "id": "60f2e68d",
   "metadata": {},
   "outputs": [],
   "source": []
  }
 ],
 "metadata": {
  "kernelspec": {
   "display_name": "testenv",
   "language": "python",
   "name": "testenv"
  },
  "language_info": {
   "codemirror_mode": {
    "name": "ipython",
    "version": 3
   },
   "file_extension": ".py",
   "mimetype": "text/x-python",
   "name": "python",
   "nbconvert_exporter": "python",
   "pygments_lexer": "ipython3",
   "version": "3.11.5"
  }
 },
 "nbformat": 4,
 "nbformat_minor": 5
}
