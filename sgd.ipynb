{
 "cells": [
  {
   "cell_type": "code",
   "execution_count": 1,
   "id": "3b1048d7",
   "metadata": {},
   "outputs": [],
   "source": [
    "import mnist_loader\n",
    "import mnist"
   ]
  },
  {
   "cell_type": "code",
   "execution_count": 3,
   "id": "ee07bd41",
   "metadata": {},
   "outputs": [],
   "source": [
    "training_data, validation_data, test_data = mnist.load_data_wrapper()"
   ]
  },
  {
   "cell_type": "code",
   "execution_count": 4,
   "id": "9bee525a",
   "metadata": {},
   "outputs": [],
   "source": [
    "training_data = list(training_data) \n",
    "test_data=list(test_data)"
   ]
  },
  {
   "cell_type": "code",
   "execution_count": 6,
   "id": "ce99f024",
   "metadata": {},
   "outputs": [],
   "source": [
    "net = mnist_loader.Network([784, 30, 10]) ##parametros para entrenar\n",
    "net.SGD_momentum(training_data, 10, 2, 3.0, .82, test_data=test_data)"
   ]
  },
  {
   "cell_type": "code",
   "execution_count": null,
   "id": "c5d014de",
   "metadata": {},
   "outputs": [],
   "source": [
    "##ya lo cargué desde archivos distintos y ya no me arroja errores pero no puedo ver las epocas:("
   ]
  }
 ],
 "metadata": {
  "kernelspec": {
   "display_name": "testenv",
   "language": "python",
   "name": "testenv"
  },
  "language_info": {
   "codemirror_mode": {
    "name": "ipython",
    "version": 3
   },
   "file_extension": ".py",
   "mimetype": "text/x-python",
   "name": "python",
   "nbconvert_exporter": "python",
   "pygments_lexer": "ipython3",
   "version": "3.11.5"
  }
 },
 "nbformat": 4,
 "nbformat_minor": 5
}
